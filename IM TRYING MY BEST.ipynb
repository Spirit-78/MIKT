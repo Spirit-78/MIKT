{
 "cells": [
  {
   "cell_type": "markdown",
   "metadata": {},
   "source": [
    "<style>\n",
    "a:hover{\n",
    "color: darkorange;\n",
    "}\n",
    "</style>\n",
    "<a href='https://www.elsevier.com/'><img src ='https://upload.wikimedia.org/wikipedia/commons/thumb/e/e7/Elsevier.svg/1200px-Elsevier.svg.png' height=10% width=10% align=left style=\"margin:10px\" title=\"ELSEVIER\"> </a>\n",
    "<center>\n",
    "<h1><b> Revisiting the uncanny valley theory: Developing and validating an alternative to the Godspeed indices</b></h1>\n",
    "<br>\n",
    "journal homepage: <a href ='www.elsevier.com/locate/comphumbeh' style=\"color:chocolate;\"> www.elsevier.com/locate/comphumbeh </a>\n",
    "</center>\n",
    "<br>\n",
    "<p style=\"font-size:15px\">Chin-Chang Ho, Karl F. MacDorman *\n",
    "<br>\n",
    "<i><span style=\"font-size:10px\">Indiana University School of Informatics, 535 West Michigan Street, Indianapolis, IN 46202, USA </span></p>"
   ]
  },
  {
   "cell_type": "markdown",
   "metadata": {},
   "source": [
    "<center>\n",
    "<h3>Абстракт - краток опис </h3>"
   ]
  },
  {
   "cell_type": "markdown",
   "metadata": {},
   "source": [
    "<a href='https://en.wikipedia.org/wiki/Masahiro_Mori_(roboticist)' style=\"color:chocolate;text-decoration:none;\">Масахиро Мори</a> во 1970-та година го предложи неговиот најпознат хипотетички графикон кој ја опишува нелинеарната релација помеѓу степенот на човеколикост на некој карактер и емоционалниот одговор што се предизвикува од човечкиот набљудувач. <br>\n",
    "<a href=\"https://en.wikipedia.org/wiki/Uncanny_valley\">\n",
    "<img src='https://upload.wikimedia.org/wikipedia/commons/7/73/Uncanny_valley.png' width=90% style=\"margin:15px;\"></a>\n",
    "<center style=\"color:chocolate; padding-right:20px;padding-left:20px; margin-right:20px;margin-left:20px;font-size:10px;\"><span>Колку повеќе некој робот се доближува до човеколикост, неговата 'привлечност' опаѓа, како во долина.</span></center>\n",
    "<br>\n",
    "Во овој труд се покажува како индексот на конструкција кај овие променливи може да доведе до силна корелација помеѓу нив и да спречи точно исцртување на веќе оценети карактери. Фаза 1 во овој труд ги истестира индексите од Godspeed прашалникот како потенцијални мерки на човеколики карактери, но резултатите покажаа дека сепак постои повторно голема корелација што се појавува меѓу индексите. Па во фаза 2 се воведоа и докажаа алтернативни индекси кои имаа многу мал и незначителен број на корелации (p > .05) помеѓу предложената 'морничавост' на у-оската и перцепираната човеколикост на х-оската(r = .02). Овие нови индекси на човеколикост и морничавост драстично го олеснуваат исцртувањето на релациите помеѓу оценетите карактери со варијабилна човеколикост.\n",
    "<br>\n",
    "Овој развој на индекси за роботи значајно ке им користи на развивачите на роботи, помагајќи им со дизајнот и нивниот напредок. Бидејќи досега напредокот на роботиката беше успорена од стравот да не се западне во оваа долина, со овие нови создадени индекси дизајнот на роботите надежно ќе продолжи да се развива во повеќе човеколик дизајн."
   ]
  },
  {
   "cell_type": "code",
   "execution_count": 71,
   "metadata": {
    "scrolled": false
   },
   "outputs": [
    {
     "data": {
      "text/html": [
       "<script>\n",
       "code_show=true; \n",
       "function code_toggle(p=0) {\n",
       " if (p!=0){\n",
       "     code_show = p;\n",
       " }\n",
       " else {\n",
       "     if (code_show){\n",
       "         $('div.input').hide();\n",
       "    } else {\n",
       "         $('div.input').show();\n",
       " }\n",
       " code_show = !code_show\n",
       " }\n",
       "} \n",
       "$( document ).ready(code_toggle);\n",
       "</script>\n",
       "<form align=\"center\" action=\"javascript:code_toggle()\"><input style=\"border:1px solid chocolate;border-radius:25%;padding:10px 25px;\" type=\"submit\" value=\"Копче за код.\"></form>"
      ],
      "text/plain": [
       "<IPython.core.display.HTML object>"
      ]
     },
     "execution_count": 71,
     "metadata": {},
     "output_type": "execute_result"
    }
   ],
   "source": [
    "!jt -t gruvboxl\n",
    "import matplotlib\n",
    "from matplotlib import pyplot as plt\n",
    "import numpy as np, math\n",
    "import plotly.graph_objects as go\n",
    "from IPython.display import HTML\n",
    "import ipympl\n",
    "#import pandas as pd\n",
    "%matplotlib widget\n",
    "\n",
    "HTML('''<script>\n",
    "code_show=true; \n",
    "function code_toggle(p=0) {\n",
    " if (p!=0){\n",
    "     code_show = p;\n",
    " }\n",
    "     if (code_show){\n",
    "         $('div.input').hide();\n",
    "    } else {\n",
    "         $('div.input').show();\n",
    " }\n",
    " code_show = !code_show\n",
    " \n",
    "} \n",
    "$( document ).ready(code_toggle);\n",
    "</script>\n",
    "<form align=\"center\" action=\"javascript:code_toggle()\"><input style=\"border:1px solid chocolate;border-radius:25%;padding:10px 25px;\" type=\"submit\" value=\"Копче за код.\"></form>''')\n"
   ]
  },
  {
   "cell_type": "markdown",
   "metadata": {},
   "source": [
    "<center><h3> Методи на истражување </h3></center>\n",
    "<br>\n",
    "Учесниците овде беа избрани случајно од 9 кампусен универзитет во Америка, од избраните 384, 41.9% беа машки а останатите женски. 48.7% беа под 20 години, 42.2% меѓу 21 и 25 а останатите 9.1% над 25 години. \n",
    "<br>\n",
    "<!--> <iframe width=\"560\" height=\"315\" src=\"https://www.youtube.com/embed/S_f2qV2_U00?rel=0&amp;controls=0&amp;showinfo=0\" frameborder=\"0\" allowfullscreen></iframe> </!-->\n",
    "На секој учесник му беа покажани 10 кратки клипови од 15-30 секунди во случаен редослед и видеото се повторуваше додека учесниците одговараа на прашањата за фигурата во видеото. Прашањата беа од прашалникот на Godspeed во кој имаше 5 индекси со 24 различни семантички диференцијални ставки:\n",
    "индексот <i>антроморфизам</i> имаше 4 ставки, <i>анимираност</i> со 6 ставки, <i>допадливост</i> со 5 ставки, <i>видлива интелигенција</i> со 5 ставки и <i>видлива безбедност</i> со 3 ставки."
   ]
  },
  {
   "cell_type": "code",
   "execution_count": null,
   "metadata": {},
   "outputs": [],
   "source": [
    "\"\"\"\n",
    "fig = go.Figure()\n",
    "fig.update_xaxes(range=[-1, 1])\n",
    "fig.update_yaxes(range=[-1, 1])\n",
    "\n",
    "fig.add_trace(go.Scatter(\n",
    "    x=[0, 0],\n",
    "    text=[\"Line positioned relative to the plot\"\n",
    "         ],\n",
    "    mode=\"text\",\n",
    "))\n",
    "\n",
    "fig.add_shape(type=\"line\",\n",
    "    x0=-1, y0=-1, x1=1, y1=1,\n",
    "    line=dict(color=\"RoyalBlue\",width=3)\n",
    ")\n",
    "fig.update_shapes(dict(xref='x', yref='y'))\n",
    "#fig.show()\n",
    "#ne raboti :(\n",
    "# sakav da go izmodeliram vtoriot ednostaven grafik ama ne razbiram nisto zosto ne raboti :(\n",
    "\"\"\""
   ]
  },
  {
   "cell_type": "markdown",
   "metadata": {},
   "source": [
    "<center><h4> Видеата кои учесниците ги рангираа: </h4></center>"
   ]
  },
  {
   "cell_type": "code",
   "execution_count": 120,
   "metadata": {
    "scrolled": true
   },
   "outputs": [
    {
     "data": {
      "text/html": [
       "<style>\n",
       "li{\n",
       "float:left;\n",
       "padding: 2px 0px;\n",
       "}\n",
       "</style>\n",
       "<center>\n",
       "<h3>Од анимирани видеа.</h3>\n",
       "<ol style=\"list-style-type:upper-roman;display:inline-block;margin-left:auto;margin-right:auto;\">\n",
       "<li>\n",
       "<iframe width=\"400\" height=\"215\" src=\"https://www.youtube.com/embed/qUXVOfdGE4o\" frameborder=\"0\" allow=\"accelerometer; autoplay; clipboard-write; encrypted-media; gyroscope; picture-in-picture\" allowfullscreen></iframe>\n",
       "</li>\n",
       "<li>\n",
       "<iframe width=\"400\" height=\"215\" src=\"https://www.youtube.com/embed/-UaGUdNJdRQ\" frameborder=\"0\" allow=\"accelerometer; autoplay; clipboard-write; encrypted-media; gyroscope; picture-in-picture\" allowfullscreen></iframe>\n",
       "</li>\n",
       "<li>\n",
       "<iframe width=\"400\" height=\"215\" src=\"https://www.youtube.com/embed/TQhRqtt-Fpo\" frameborder=\"0\" allow=\"accelerometer; autoplay; clipboard-write; encrypted-media; gyroscope; picture-in-picture\" allowfullscreen></iframe>\n",
       "</li>\n",
       "<li>\n",
       "<iframe width=\"400\" height=\"215\" src=\"https://www.youtube.com/embed/Fcn4p213Zg8\" frameborder=\"0\" allow=\"accelerometer; autoplay; clipboard-write; encrypted-media; gyroscope; picture-in-picture\" allowfullscreen></iframe>\n",
       "</li>\n",
       "<li>\n",
       "<iframe width=\"400\" height=\"215\" src=\"https://www.youtube.com/embed/mrepeMdCwN4\" frameborder=\"0\" allow=\"accelerometer; autoplay; clipboard-write; encrypted-media; gyroscope; picture-in-picture\" allowfullscreen></iframe>\n",
       "</li>\n",
       "</ol>\n",
       "<h3>Од роботи.</h3>\n",
       "<ol style=\"list-style-type:upper-roman;display:inline-block;margin-left:auto;margin-right:auto;\">\n",
       "<li>\n",
       "<iframe width=\"400\" height=\"215\" src=\"https://www.youtube.com/embed/WaJci9bOmDk\" frameborder=\"0\" allow=\"accelerometer; autoplay; clipboard-write; encrypted-media; gyroscope; picture-in-picture\" allowfullscreen></iframe>\n",
       "</li>\n",
       "<li>\n",
       "<a href=\"http://www.jsk.t.u-tokyo.ac.jp/~ikuo/kotaro/index-e.html\"><img src=\"http://www.jsk.t.u-tokyo.ac.jp/~ikuo/kotaro/figs/Kotaro-standing-with-ball-20050627.jpg\" height=60% width=60%></a>\n",
       "</li>\n",
       "<li>\n",
       "<iframe width=\"400\" height=\"215\" src=\"https://www.youtube.com/embed/LV8Ws4JadTw\" frameborder=\"0\" allow=\"accelerometer; autoplay; clipboard-write; encrypted-media; gyroscope; picture-in-picture\" allowfullscreen></iframe>\n",
       "</li>\n",
       "<li>\n",
       "<img src=\"https://cdn.discordapp.com/attachments/694279552607977483/784733902081359892/unknown.png\" height=215px></img>\n",
       "</li>\n",
       "<li>\n",
       "<iframe width=\"400\" height=\"215\" src=\"https://www.youtube.com/embed/iCR2PFrLkwA\" frameborder=\"0\" allow=\"accelerometer; autoplay; clipboard-write; encrypted-media; gyroscope; picture-in-picture\" allowfullscreen></iframe>\n",
       "</li>\n",
       "</ol>\n"
      ],
      "text/plain": [
       "<IPython.core.display.HTML object>"
      ]
     },
     "execution_count": 120,
     "metadata": {},
     "output_type": "execute_result"
    }
   ],
   "source": [
    "HTML('''<style>\n",
    "li{\n",
    "float:left;\n",
    "padding: 2px 0px;\n",
    "}\n",
    "</style>\n",
    "<center>\n",
    "<h3>Од анимирани видеа.</h3>\n",
    "<ol style=\"list-style-type:upper-roman;display:inline-block;margin-left:auto;margin-right:auto;\">\n",
    "<li>\n",
    "<iframe width=\"400\" height=\"215\" src=\"https://www.youtube.com/embed/qUXVOfdGE4o\" frameborder=\"0\" allow=\"accelerometer; autoplay; clipboard-write; encrypted-media; gyroscope; picture-in-picture\" allowfullscreen></iframe>\n",
    "</li>\n",
    "<li>\n",
    "<iframe width=\"400\" height=\"215\" src=\"https://www.youtube.com/embed/-UaGUdNJdRQ\" frameborder=\"0\" allow=\"accelerometer; autoplay; clipboard-write; encrypted-media; gyroscope; picture-in-picture\" allowfullscreen></iframe>\n",
    "</li>\n",
    "<li>\n",
    "<iframe width=\"400\" height=\"215\" src=\"https://www.youtube.com/embed/TQhRqtt-Fpo\" frameborder=\"0\" allow=\"accelerometer; autoplay; clipboard-write; encrypted-media; gyroscope; picture-in-picture\" allowfullscreen></iframe>\n",
    "</li>\n",
    "<li>\n",
    "<iframe width=\"400\" height=\"215\" src=\"https://www.youtube.com/embed/Fcn4p213Zg8\" frameborder=\"0\" allow=\"accelerometer; autoplay; clipboard-write; encrypted-media; gyroscope; picture-in-picture\" allowfullscreen></iframe>\n",
    "</li>\n",
    "<li>\n",
    "<iframe width=\"400\" height=\"215\" src=\"https://www.youtube.com/embed/mrepeMdCwN4\" frameborder=\"0\" allow=\"accelerometer; autoplay; clipboard-write; encrypted-media; gyroscope; picture-in-picture\" allowfullscreen></iframe>\n",
    "</li>\n",
    "</ol>\n",
    "<h3>Од роботи.</h3>\n",
    "<ol style=\"list-style-type:upper-roman;display:inline-block;margin-left:auto;margin-right:auto;\">\n",
    "<li>\n",
    "<iframe width=\"400\" height=\"215\" src=\"https://www.youtube.com/embed/WaJci9bOmDk\" frameborder=\"0\" allow=\"accelerometer; autoplay; clipboard-write; encrypted-media; gyroscope; picture-in-picture\" allowfullscreen></iframe>\n",
    "</li>\n",
    "<li>\n",
    "<a href=\"http://www.jsk.t.u-tokyo.ac.jp/~ikuo/kotaro/index-e.html\"><img src=\"http://www.jsk.t.u-tokyo.ac.jp/~ikuo/kotaro/figs/Kotaro-standing-with-ball-20050627.jpg\" height=60% width=60%></a>\n",
    "</li>\n",
    "<li>\n",
    "<iframe width=\"400\" height=\"215\" src=\"https://www.youtube.com/embed/LV8Ws4JadTw\" frameborder=\"0\" allow=\"accelerometer; autoplay; clipboard-write; encrypted-media; gyroscope; picture-in-picture\" allowfullscreen></iframe>\n",
    "</li>\n",
    "<li>\n",
    "<img src=\"https://cdn.discordapp.com/attachments/694279552607977483/784733902081359892/unknown.png\" height=215px></img>\n",
    "</li>\n",
    "<li>\n",
    "<iframe width=\"400\" height=\"215\" src=\"https://www.youtube.com/embed/iCR2PFrLkwA\" frameborder=\"0\" allow=\"accelerometer; autoplay; clipboard-write; encrypted-media; gyroscope; picture-in-picture\" allowfullscreen></iframe>\n",
    "</li>\n",
    "</ol>\n",
    "''')\n"
   ]
  },
  {
   "cell_type": "markdown",
   "metadata": {},
   "source": [
    "<center><span style=\"font-size:15px; color:chocolate;\">Структурните коефициенти на индексите на Godspeed</span></center>\n",
    "<br>\n",
    "\n",
    "|Ставки                               |Антроморфизам|Анимираност|Допадливост|Видлива интелигенција|Видлива безбедност|\n",
    "|------                 |-------------|-----------|-----------|---------------------|------------------|\n",
    "|Машинолика - Човеколика              | .89         |    -      |    -      |    -                |    _                     |\n",
    "|Вештачка - Животна                   | .87         |    -      |    -      |    -                |    -                     |\n",
    "|Лажна - Природна                     | .85         |    -      |    -      |    -                |    -                     |\n",
    "|Несвесно - Свесно                    | .76         |    -      |    -      |    -                |    -                     |\n",
    "|Нагло Движење-Елегантно Движење      | .76         |    -      |    -      |    -                |    -                     |\n",
    "|Механичко - Органско                 |   -         | .88       |    -      |    -                |    -                     |\n",
    "|Вештачка - Животна                   |   -         | .87       |    -      |    -                |    -                     |\n",
    "|Мртво - Живо                         |   -         | .79       |    -      |    -                |    -                     |\n",
    "|Недвижечко - Енергетско              |   -         | .64       |    -      |    -                |    -                     |\n",
    "|Апатетично - Реактивно               |   -         | .59       |    -      |    -                |    -                     |\n",
    "|Инертно - Интерактивно               |   -         | .57       |    -      |    -                |    -                     |\n",
    "|Лошо - Фино                          |   -         | -         | .86       |    -                |    -                     |\n",
    "|Непријатно - Пријатно                |   -         | -         | .85       |    -                |    -                     |\n",
    "|Не се допаѓа - Се допаѓа             |   -         | -         | .83       |    -                |    -                     |\n",
    "|Непријателско - Пријателско          |   -         | -         | .81       |    -                |    -                     |\n",
    "|Нељубезно - Љубезно                  |   -         | -         | .81       |    -                |    -                     |\n",
    "|Неуко - Паметно                      |   -         | -         |   -       | .81                 |    -                     |\n",
    "|Неинтелигентно - Интелигентно        |   -         | -         |   -       | .79                 |    -                     |\n",
    "|Инкомпетентно - Компетентно          |   -         | -         |   -       | .78                 |    -                     |\n",
    "|Глупаво - Разумно                    |   -         | -         |   -       | .74                 |    -                     |\n",
    "|Неодговорно - Одговорно              |   -         | -         |   -       | .70                 |    -                     |\n",
    "|Вознемирено - Мирно                  |   -         | -         |   -       |    -                | .84                      |\n",
    "|Анкциозно - Релаксирано              |   -         | -         |   -       |    -                | .70                      |\n",
    "|Изненадено - Кротко                  |   -         | -         |   -       |    -                | .19                      |\n",
    "|Кронбахова ${\\chi}$                  | .91         | .88       | .92       | .87                 | .60                      |\n",
    "|Модел                                | ${\\chi^2}$  |**df**     |**GFI**    |**AGFI**             |                          |\n",
    "|                                     | 3972.25     | 242       | .86       | .82                 |                          |\n",
    "|                                     |**NFI**      |**CFI**    |**RMR**    |**RMSEA**            |                          |\n",
    "|                                     | .98         | .98       | .086      | .88                 |                          |\n",
    "\n"
   ]
  },
  {
   "cell_type": "markdown",
   "metadata": {},
   "source": [
    "<center><span style=\"font-size:12px;\">Според оваа табела се донесува побивањето на првата хипотеза од првата фаза, каде резултатите покажаа дека индексите на допадноста и антропоморфизмоста имаа најголема доверливост со Кронбахова $\\alpha$ од .92 и .91. Анимираноста и видливата интелигенција имаа Кронбахова $\\alpha$ од .88 и .87, но видливата безбедност имаше Кронбахова $\\alpha$ од .60 која што беше значително под стандардот за доверливост од .70. \n",
    "Во моделот двата параметри за мерење на goodness-of-fit(RMR = .086; RMSEA = .88) драстично го надминаа стандардот за отсек од .05, што покажува дека овие 24 семантички диференцијални ставки не соодвестуваат добро во структурата на петте индекси($\\chi^2$ = 3972.25; df = 242; GFI = .86; AGFI = .82). </span>"
   ]
  },
  {
   "cell_type": "code",
   "execution_count": null,
   "metadata": {},
   "outputs": [],
   "source": []
  }
 ],
 "metadata": {
  "kernelspec": {
   "display_name": "Python 3",
   "language": "python",
   "name": "python3"
  },
  "language_info": {
   "codemirror_mode": {
    "name": "ipython",
    "version": 3
   },
   "file_extension": ".py",
   "mimetype": "text/x-python",
   "name": "python",
   "nbconvert_exporter": "python",
   "pygments_lexer": "ipython3",
   "version": "3.7.9"
  }
 },
 "nbformat": 4,
 "nbformat_minor": 4
}
