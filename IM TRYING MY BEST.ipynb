{
 "cells": [
  {
   "cell_type": "markdown",
   "metadata": {},
   "source": [
    "<style>\n",
    "a:hover{\n",
    "color: darkorange;\n",
    "}\n",
    "</style>\n",
    "<a href='https://www.elsevier.com/'><img src ='https://upload.wikimedia.org/wikipedia/commons/thumb/e/e7/Elsevier.svg/1200px-Elsevier.svg.png' height=10% width=10% align=left style=\"margin:10px\" title=\"ELSEVIER\"> </a>\n",
    "<center>\n",
    "<h1><b> Revisiting the uncanny valley theory: Developing and validating an alternative to the Godspeed indices</b></h1>\n",
    "<br>\n",
    "journal homepage: <a href ='www.elsevier.com/locate/comphumbeh' style=\"color:chocolate;\"> www.elsevier.com/locate/comphumbeh </a>\n",
    "</center>\n",
    "<br>\n",
    "<p style=\"font-size:15px\">Chin-Chang Ho, Karl F. MacDorman *\n",
    "<br>\n",
    "<i><span style=\"font-size:10px\">Indiana University School of Informatics, 535 West Michigan Street, Indianapolis, IN 46202, USA </span></p>\n",
    "\n"
   ]
  },
  {
   "cell_type": "code",
   "execution_count": null,
   "metadata": {},
   "outputs": [],
   "source": [
    "!jt -t gruvboxl"
   ]
  },
  {
   "cell_type": "markdown",
   "metadata": {},
   "source": []
  },
  {
   "cell_type": "code",
   "execution_count": null,
   "metadata": {},
   "outputs": [],
   "source": []
  },
  {
   "cell_type": "code",
   "execution_count": null,
   "metadata": {},
   "outputs": [],
   "source": []
  }
 ],
 "metadata": {
  "kernelspec": {
   "display_name": "Python 3",
   "language": "python",
   "name": "python3"
  },
  "language_info": {
   "codemirror_mode": {
    "name": "ipython",
    "version": 3
   },
   "file_extension": ".py",
   "mimetype": "text/x-python",
   "name": "python",
   "nbconvert_exporter": "python",
   "pygments_lexer": "ipython3",
   "version": "3.7.9"
  }
 },
 "nbformat": 4,
 "nbformat_minor": 4
}
