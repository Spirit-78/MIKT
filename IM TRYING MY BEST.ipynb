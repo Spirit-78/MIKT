{
 "cells": [
  {
   "cell_type": "markdown",
   "metadata": {},
   "source": [
    "<style>\n",
    "a:hover{\n",
    "color: darkorange;\n",
    "}\n",
    "</style>\n",
    "<a href='https://www.elsevier.com/'><img src ='https://upload.wikimedia.org/wikipedia/commons/thumb/e/e7/Elsevier.svg/1200px-Elsevier.svg.png' height=10% width=10% align=left style=\"margin:10px\" title=\"ELSEVIER\"> </a>\n",
    "<center>\n",
    "<h1><b> Revisiting the uncanny valley theory: Developing and validating an alternative to the Godspeed indices</b></h1>\n",
    "<br>\n",
    "journal homepage: <a href ='www.elsevier.com/locate/comphumbeh' style=\"color:chocolate;\"> www.elsevier.com/locate/comphumbeh </a>\n",
    "</center>\n",
    "<br>\n",
    "<p style=\"font-size:15px\">Chin-Chang Ho, Karl F. MacDorman *\n",
    "<br>\n",
    "<i><span style=\"font-size:10px\">Indiana University School of Informatics, 535 West Michigan Street, Indianapolis, IN 46202, USA </span></p>"
   ]
  },
  {
   "cell_type": "markdown",
   "metadata": {},
   "source": [
    "<center>\n",
    "<h3>Абстракт - краток опис </h3>"
   ]
  },
  {
   "cell_type": "markdown",
   "metadata": {},
   "source": [
    "<a href='https://en.wikipedia.org/wiki/Masahiro_Mori_(roboticist)' style=\"color:chocolate;text-decoration:none;\">Масахиро Мори</a> во 1970-та година го предложи неговиот најпознат хипотетички графикон кој ја опишува нелинеарната релација помеѓу степенот на човеколикост на некој карактер и емоционалниот одговор што се предизвикува од човечкиот набљудувач. <br>\n",
    "<a href=\"https://en.wikipedia.org/wiki/Uncanny_valley\">\n",
    "<img src='https://upload.wikimedia.org/wikipedia/commons/7/73/Uncanny_valley.png' width=90% style=\"margin:15px;\"></a>\n",
    "<center style=\"color:chocolate; padding-right:20px;padding-left:20px; margin-right:20px;margin-left:20px;font-size:10px;\"><span>Колку повеќе некој робот се доближува до човеколикост, неговата 'привлечност' опаѓа, како во долина.</span></center>\n",
    "<br>\n",
    "Во овој труд се покажува како индексот на конструкција кај овие променливи може да доведе до силна корелација помеѓу нив и да спречи точно исцртување на веќе оценети карактери. Фаза 1 во овој труд ги истестира индексите од Godspeed прашалникот како потенцијални мерки на човеколики карактери, но резултатите покажаа дека сепак постои повторно голема корелација што се појавува меѓу индексите. Па во фаза 2 се воведоа и докажаа алтернативни индекси кои имаа многу мал и незначителен број на корелации (p > .05) помеѓу предложената 'морничавост' на у-оската и перцепираната човеколикост на х-оската(r = .02). Овие нови индекси на човеколикост и морничавост драстично го олеснуваат исцртувањето на релациите помеѓу оценетите карактери со варијабилна човеколикост.\n",
    "<br>\n",
    "Овој развој на индекси за роботи значајно ке им користи на развивачите на роботи, помагајќи им со дизајнот и нивниот напредок. Бидејќи досега напредокот на роботиката беше успорена од стравот да не се западне во оваа долина, со овие нови создадени индекси дизајнот на роботите надежно ќе продолжи да се развива во повеќе човеколик дизајн."
   ]
  },
  {
   "cell_type": "code",
   "execution_count": 15,
   "metadata": {},
   "outputs": [
    {
     "data": {
      "text/html": [
       "<script>\n",
       "code_show=true; \n",
       "function code_toggle(p=0) {\n",
       " if (p!=0){\n",
       "     code_show = p;\n",
       " }\n",
       " else {\n",
       "     if (code_show){\n",
       "         $('div.input').hide();\n",
       "    } else {\n",
       "         $('div.input').show();\n",
       " }\n",
       " code_show = !code_show\n",
       " }\n",
       "} \n",
       "$( document ).ready(code_toggle);\n",
       "</script>\n",
       "<form action=\"javascript:code_toggle()\"><input type=\"submit\" value=\"Копче за код.\"></form>"
      ],
      "text/plain": [
       "<IPython.core.display.HTML object>"
      ]
     },
     "execution_count": 15,
     "metadata": {},
     "output_type": "execute_result"
    }
   ],
   "source": [
    "!jt -t gruvboxl\n",
    "from matplotlib import pyplot as plt\n",
    "import numpy as np, math\n",
    "from IPython.display import HTML\n",
    "\n",
    "HTML('''<script>\n",
    "code_show=true; \n",
    "function code_toggle(p=0) {\n",
    " if (p!=0){\n",
    "     code_show = p;\n",
    " }\n",
    " else {\n",
    "     if (code_show){\n",
    "         $('div.input').hide();\n",
    "    } else {\n",
    "         $('div.input').show();\n",
    " }\n",
    " code_show = !code_show\n",
    " }\n",
    "} \n",
    "$( document ).ready(code_toggle);\n",
    "</script>\n",
    "<form action=\"javascript:code_toggle()\"><input type=\"submit\" value=\"Копче за код.\"></form>''')\n"
   ]
  },
  {
   "cell_type": "code",
   "execution_count": null,
   "metadata": {
    "scrolled": true
   },
   "outputs": [],
   "source": []
  },
  {
   "cell_type": "code",
   "execution_count": null,
   "metadata": {},
   "outputs": [],
   "source": []
  },
  {
   "cell_type": "code",
   "execution_count": null,
   "metadata": {},
   "outputs": [],
   "source": []
  }
 ],
 "metadata": {
  "kernelspec": {
   "display_name": "Python 3",
   "language": "python",
   "name": "python3"
  },
  "language_info": {
   "codemirror_mode": {
    "name": "ipython",
    "version": 3
   },
   "file_extension": ".py",
   "mimetype": "text/x-python",
   "name": "python",
   "nbconvert_exporter": "python",
   "pygments_lexer": "ipython3",
   "version": "3.7.9"
  }
 },
 "nbformat": 4,
 "nbformat_minor": 4
}
