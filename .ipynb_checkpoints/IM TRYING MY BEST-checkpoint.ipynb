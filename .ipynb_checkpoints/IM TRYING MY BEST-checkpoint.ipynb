{
 "cells": [
  {
   "cell_type": "markdown",
   "metadata": {},
   "source": [
    "<a href='https://www.elsevier.com/'><img src ='https://upload.wikimedia.org/wikipedia/commons/thumb/e/e7/Elsevier.svg/1200px-Elsevier.svg.png' height=10% width=10% align=left style=\"margin:10px\"> </a>\n",
    "<center>\n",
    "<h1><b> Revisiting the uncanny valley theory: Developing and validating an alternative to the Godspeed indices</b></h1>\n",
    "<br>\n",
    "journal homepage: <a href ='www.elsevier.com/locate/comphumbeh'> www.elsevier.com/locate/comphumbeh </a>\n",
    "</center>\n",
    "<br>\n",
    "Chin-Chang Ho, Karl F. MacDorman *\n",
    "<br>\n",
    "Indiana University School of Informatics, 535 West Michigan Street, Indianapolis, IN 46202, USA\n",
    "\n"
   ]
  },
  {
   "cell_type": "markdown",
   "metadata": {},
   "source": []
  },
  {
   "cell_type": "code",
   "execution_count": 1,
   "metadata": {},
   "outputs": [
    {
     "name": "stdout",
     "output_type": "stream",
     "text": [
      "h\n"
     ]
    }
   ],
   "source": [
    "!jt -t gruvboxl\n",
    "print(\"h\")"
   ]
  },
  {
   "cell_type": "code",
   "execution_count": null,
   "metadata": {},
   "outputs": [],
   "source": []
  },
  {
   "cell_type": "code",
   "execution_count": null,
   "metadata": {},
   "outputs": [],
   "source": []
  }
 ],
 "metadata": {
  "kernelspec": {
   "display_name": "Python 3",
   "language": "python",
   "name": "python3"
  },
  "language_info": {
   "codemirror_mode": {
    "name": "ipython",
    "version": 3
   },
   "file_extension": ".py",
   "mimetype": "text/x-python",
   "name": "python",
   "nbconvert_exporter": "python",
   "pygments_lexer": "ipython3",
   "version": "3.7.9"
  }
 },
 "nbformat": 4,
 "nbformat_minor": 4
}
