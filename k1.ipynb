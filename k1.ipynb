{
 "cells": [
  {
   "cell_type": "markdown",
   "metadata": {},
   "source": [
    "<style>\n",
    "a:hover{\n",
    "color: darkorange;\n",
    "}\n",
    "</style>\n",
    "<a href='https://www.elsevier.com/'><img src ='https://upload.wikimedia.org/wikipedia/commons/thumb/e/e7/Elsevier.svg/1200px-Elsevier.svg.png' height=10% width=10% align=left style=\"margin:10px\" title=\"ELSEVIER\"> </a>\n",
    "<center>\n",
    "<h1><b> Revisiting the uncanny valley theory: Developing and validating an alternative to the Godspeed indices</b></h1>\n",
    "<br>\n",
    "journal homepage: <a href ='www.elsevier.com/locate/comphumbeh' style=\"color:chocolate;\"> www.elsevier.com/locate/comphumbeh </a>\n",
    "</center>\n",
    "<br>\n",
    "<p style=\"font-size:15px\">Chin-Chang Ho, Karl F. MacDorman *\n",
    "<br>\n",
    "<i><span style=\"font-size:10px\">Indiana University School of Informatics, 535 West Michigan Street, Indianapolis, IN 46202, USA </span></p>"
   ]
  },
  {
   "cell_type": "markdown",
   "metadata": {},
   "source": [
    "<center>\n",
    "<h3>Абстракт - краток опис </h3>"
   ]
  },
  {
   "cell_type": "markdown",
   "metadata": {},
   "source": [
    "<a href='https://en.wikipedia.org/wiki/Masahiro_Mori_(roboticist)' style=\"color:chocolate;text-decoration:none;\">Масахиро Мори</a> во 1970-та година го предложи неговиот најпознат хипотетички графикон кој ја опишува нелинеарната релација помеѓу степенот на човеколикост на некој карактер и емоционалниот одговор што се предизвикува од човечкиот набљудувач. <br>\n",
    "<a href=\"https://en.wikipedia.org/wiki/Uncanny_valley\">\n",
    "<img src='https://upload.wikimedia.org/wikipedia/commons/7/73/Uncanny_valley.png' width=90% style=\"margin:15px;\"></a>\n",
    "<center style=\"color:chocolate; padding-right:20px;padding-left:20px; margin-right:20px;margin-left:20px;font-size:10px;\"><span>Колку повеќе некој робот се доближува до човеколикост, неговата 'привлечност' опаѓа, како во долина.</span></center>\n",
    "<br>\n",
    "Во овој труд се покажува како индексот на конструкција кај овие променливи може да доведе до силна корелација помеѓу нив и да спречи точно исцртување на веќе оценети карактери. Фаза 1 во овој труд ги истестира индексите од Godspeed прашалникот како потенцијални мерки на човеколики карактери, но резултатите покажаа дека сепак постои повторно голема корелација што се појавува меѓу индексите. Па во фаза 2 се воведоа и докажаа алтернативни индекси кои имаа многу мал и незначителен број на корелации (p > .05) помеѓу предложената 'морничавост' на у-оската и перцепираната човеколикост на х-оската(r = .02). Овие нови индекси на човеколикост и морничавост драстично го олеснуваат исцртувањето на релациите помеѓу оценетите карактери со варијабилна човеколикост.\n",
    "<br>\n",
    "Овој развој на индекси за роботи значајно ке им користи на развивачите на роботи, помагајќи им со дизајнот и нивниот напредок. Бидејќи досега напредокот на роботиката беше успорена од стравот да не се западне во оваа долина, со овие нови создадени индекси дизајнот на роботите надежно ќе продолжи да се развива во повеќе човеколик дизајн."
   ]
  },
  {
   "cell_type": "code",
   "execution_count": 5,
   "metadata": {
    "scrolled": false
   },
   "outputs": [
    {
     "data": {
      "text/html": [
       "<script>\n",
       "code_show=true; \n",
       "function code_toggle(p=0) {\n",
       " if (p!=0){\n",
       "     code_show = p;\n",
       " }\n",
       "     if (code_show){\n",
       "         $('div.input').hide();\n",
       "    } else {\n",
       "         $('div.input').show();\n",
       " }\n",
       " code_show = !code_show\n",
       " \n",
       "} \n",
       "$( document ).ready(code_toggle);\n",
       "</script>\n",
       "<form align=\"center\" action=\"javascript:code_toggle()\"><input style=\"border:1px solid chocolate;border-radius:25%;padding:10px 25px;\" type=\"submit\" value=\"Копче за код.\"></form>"
      ],
      "text/plain": [
       "<IPython.core.display.HTML object>"
      ]
     },
     "execution_count": 5,
     "metadata": {},
     "output_type": "execute_result"
    }
   ],
   "source": [
    "!jt -t gruvboxl\n",
    "import matplotlib\n",
    "from matplotlib import pyplot as plt\n",
    "import numpy as np, math\n",
    "import plotly.graph_objects as go\n",
    "from IPython.display import HTML\n",
    "import ipympl\n",
    "import pandas as pd\n",
    "%matplotlib widget\n",
    "\n",
    "HTML('''<script>\n",
    "code_show=true; \n",
    "function code_toggle(p=0) {\n",
    " if (p!=0){\n",
    "     code_show = p;\n",
    " }\n",
    "     if (code_show){\n",
    "         $('div.input').hide();\n",
    "    } else {\n",
    "         $('div.input').show();\n",
    " }\n",
    " code_show = !code_show\n",
    " \n",
    "} \n",
    "$( document ).ready(code_toggle);\n",
    "</script>\n",
    "<form align=\"center\" action=\"javascript:code_toggle()\"><input style=\"border:1px solid chocolate;border-radius:25%;padding:10px 25px;\" type=\"submit\" value=\"Копче за код.\"></form>''')\n"
   ]
  },
  {
   "cell_type": "markdown",
   "metadata": {},
   "source": [
    "<center><h3> Методи на истражување </h3></center>\n",
    "<br>\n",
    "Учесниците овде беа избрани случајно од 9 кампусен универзитет во Америка, од избраните 384, 41.9% беа машки а останатите женски. 48.7% беа под 20 години, 42.2% меѓу 21 и 25 а останатите 9.1% над 25 години. \n",
    "<br>\n",
    "На секој учесник му беа покажани 10 кратки клипови од 15-30 секунди во случаен редослед и видеото се повторуваше додека учесниците одговараа на прашањата за фигурата во видеото. Прашањата беа од прашалникот на Godspeed во кој имаше 5 индекси со 24 различни семантички диференцијални ставки:\n",
    "индексот <i>антроморфизам</i> имаше 4 ставки, <i>анимираност</i> со 6 ставки, <i>допадливост</i> со 5 ставки, <i>видлива интелигенција</i> со 5 ставки и <i>видлива безбедност</i> со 3 ставки."
   ]
  },
  {
   "cell_type": "code",
   "execution_count": 58,
   "metadata": {
    "scrolled": false
   },
   "outputs": [
    {
     "data": {
      "application/vnd.plotly.v1+json": {
       "config": {
        "plotlyServerURL": "https://plot.ly"
       },
       "data": [
        {
         "mode": "text",
         "text": [
          "ниско <- Човеколикост -> високо"
         ],
         "type": "scatter",
         "x": [
          2,
          -2
         ],
         "y": [
          -1,
          -1
         ]
        },
        {
         "mode": "text",
         "text": [
          "високо"
         ],
         "type": "scatter",
         "x": [
          0,
          0
         ],
         "y": [
          4,
          4
         ]
        },
        {
         "mode": "text",
         "text": [
          "топлина"
         ],
         "type": "scatter",
         "x": [
          0,
          0
         ],
         "y": [
          2,
          4
         ]
        },
        {
         "mode": "text",
         "text": [
          "ниско"
         ],
         "type": "scatter",
         "x": [
          0,
          0
         ],
         "y": [
          -4,
          -4
         ]
        },
        {
         "mode": "text",
         "text": [
          "A"
         ],
         "type": "scatter",
         "x": [
          3.5,
          3.5
         ],
         "y": [
          4.5,
          4.5
         ]
        },
        {
         "mode": "text",
         "text": [
          "B"
         ],
         "type": "scatter",
         "x": [
          -3.5,
          -3.5
         ],
         "y": [
          -4.5,
          -4.5
         ]
        }
       ],
       "layout": {
        "shapes": [
         {
          "line": {
           "color": "Black",
           "width": 3
          },
          "type": "line",
          "x0": 0,
          "x1": 0,
          "xref": "x",
          "y0": -5,
          "y1": 5,
          "yref": "y"
         },
         {
          "line": {
           "color": "Black",
           "width": 3
          },
          "type": "line",
          "x0": -5,
          "x1": 5,
          "xref": "x",
          "y0": 0,
          "y1": 0,
          "yref": "y"
         },
         {
          "line": {
           "color": "RoyalBlue",
           "width": 2
          },
          "type": "line",
          "x0": -5,
          "x1": 5,
          "xref": "x",
          "y0": -5,
          "y1": 5,
          "yref": "y"
         },
         {
          "fillcolor": "White",
          "line": {
           "color": "Black"
          },
          "type": "circle",
          "x0": 5,
          "x1": 4,
          "xref": "x",
          "y0": 4,
          "y1": 5,
          "yref": "y"
         },
         {
          "fillcolor": "White",
          "line": {
           "color": "Black"
          },
          "type": "circle",
          "x0": -5,
          "x1": -4,
          "xref": "x",
          "y0": -4,
          "y1": -5,
          "yref": "y"
         }
        ],
        "template": {
         "data": {
          "bar": [
           {
            "error_x": {
             "color": "#2a3f5f"
            },
            "error_y": {
             "color": "#2a3f5f"
            },
            "marker": {
             "line": {
              "color": "#E5ECF6",
              "width": 0.5
             }
            },
            "type": "bar"
           }
          ],
          "barpolar": [
           {
            "marker": {
             "line": {
              "color": "#E5ECF6",
              "width": 0.5
             }
            },
            "type": "barpolar"
           }
          ],
          "carpet": [
           {
            "aaxis": {
             "endlinecolor": "#2a3f5f",
             "gridcolor": "white",
             "linecolor": "white",
             "minorgridcolor": "white",
             "startlinecolor": "#2a3f5f"
            },
            "baxis": {
             "endlinecolor": "#2a3f5f",
             "gridcolor": "white",
             "linecolor": "white",
             "minorgridcolor": "white",
             "startlinecolor": "#2a3f5f"
            },
            "type": "carpet"
           }
          ],
          "choropleth": [
           {
            "colorbar": {
             "outlinewidth": 0,
             "ticks": ""
            },
            "type": "choropleth"
           }
          ],
          "contour": [
           {
            "colorbar": {
             "outlinewidth": 0,
             "ticks": ""
            },
            "colorscale": [
             [
              0,
              "#0d0887"
             ],
             [
              0.1111111111111111,
              "#46039f"
             ],
             [
              0.2222222222222222,
              "#7201a8"
             ],
             [
              0.3333333333333333,
              "#9c179e"
             ],
             [
              0.4444444444444444,
              "#bd3786"
             ],
             [
              0.5555555555555556,
              "#d8576b"
             ],
             [
              0.6666666666666666,
              "#ed7953"
             ],
             [
              0.7777777777777778,
              "#fb9f3a"
             ],
             [
              0.8888888888888888,
              "#fdca26"
             ],
             [
              1,
              "#f0f921"
             ]
            ],
            "type": "contour"
           }
          ],
          "contourcarpet": [
           {
            "colorbar": {
             "outlinewidth": 0,
             "ticks": ""
            },
            "type": "contourcarpet"
           }
          ],
          "heatmap": [
           {
            "colorbar": {
             "outlinewidth": 0,
             "ticks": ""
            },
            "colorscale": [
             [
              0,
              "#0d0887"
             ],
             [
              0.1111111111111111,
              "#46039f"
             ],
             [
              0.2222222222222222,
              "#7201a8"
             ],
             [
              0.3333333333333333,
              "#9c179e"
             ],
             [
              0.4444444444444444,
              "#bd3786"
             ],
             [
              0.5555555555555556,
              "#d8576b"
             ],
             [
              0.6666666666666666,
              "#ed7953"
             ],
             [
              0.7777777777777778,
              "#fb9f3a"
             ],
             [
              0.8888888888888888,
              "#fdca26"
             ],
             [
              1,
              "#f0f921"
             ]
            ],
            "type": "heatmap"
           }
          ],
          "heatmapgl": [
           {
            "colorbar": {
             "outlinewidth": 0,
             "ticks": ""
            },
            "colorscale": [
             [
              0,
              "#0d0887"
             ],
             [
              0.1111111111111111,
              "#46039f"
             ],
             [
              0.2222222222222222,
              "#7201a8"
             ],
             [
              0.3333333333333333,
              "#9c179e"
             ],
             [
              0.4444444444444444,
              "#bd3786"
             ],
             [
              0.5555555555555556,
              "#d8576b"
             ],
             [
              0.6666666666666666,
              "#ed7953"
             ],
             [
              0.7777777777777778,
              "#fb9f3a"
             ],
             [
              0.8888888888888888,
              "#fdca26"
             ],
             [
              1,
              "#f0f921"
             ]
            ],
            "type": "heatmapgl"
           }
          ],
          "histogram": [
           {
            "marker": {
             "colorbar": {
              "outlinewidth": 0,
              "ticks": ""
             }
            },
            "type": "histogram"
           }
          ],
          "histogram2d": [
           {
            "colorbar": {
             "outlinewidth": 0,
             "ticks": ""
            },
            "colorscale": [
             [
              0,
              "#0d0887"
             ],
             [
              0.1111111111111111,
              "#46039f"
             ],
             [
              0.2222222222222222,
              "#7201a8"
             ],
             [
              0.3333333333333333,
              "#9c179e"
             ],
             [
              0.4444444444444444,
              "#bd3786"
             ],
             [
              0.5555555555555556,
              "#d8576b"
             ],
             [
              0.6666666666666666,
              "#ed7953"
             ],
             [
              0.7777777777777778,
              "#fb9f3a"
             ],
             [
              0.8888888888888888,
              "#fdca26"
             ],
             [
              1,
              "#f0f921"
             ]
            ],
            "type": "histogram2d"
           }
          ],
          "histogram2dcontour": [
           {
            "colorbar": {
             "outlinewidth": 0,
             "ticks": ""
            },
            "colorscale": [
             [
              0,
              "#0d0887"
             ],
             [
              0.1111111111111111,
              "#46039f"
             ],
             [
              0.2222222222222222,
              "#7201a8"
             ],
             [
              0.3333333333333333,
              "#9c179e"
             ],
             [
              0.4444444444444444,
              "#bd3786"
             ],
             [
              0.5555555555555556,
              "#d8576b"
             ],
             [
              0.6666666666666666,
              "#ed7953"
             ],
             [
              0.7777777777777778,
              "#fb9f3a"
             ],
             [
              0.8888888888888888,
              "#fdca26"
             ],
             [
              1,
              "#f0f921"
             ]
            ],
            "type": "histogram2dcontour"
           }
          ],
          "mesh3d": [
           {
            "colorbar": {
             "outlinewidth": 0,
             "ticks": ""
            },
            "type": "mesh3d"
           }
          ],
          "parcoords": [
           {
            "line": {
             "colorbar": {
              "outlinewidth": 0,
              "ticks": ""
             }
            },
            "type": "parcoords"
           }
          ],
          "pie": [
           {
            "automargin": true,
            "type": "pie"
           }
          ],
          "scatter": [
           {
            "marker": {
             "colorbar": {
              "outlinewidth": 0,
              "ticks": ""
             }
            },
            "type": "scatter"
           }
          ],
          "scatter3d": [
           {
            "line": {
             "colorbar": {
              "outlinewidth": 0,
              "ticks": ""
             }
            },
            "marker": {
             "colorbar": {
              "outlinewidth": 0,
              "ticks": ""
             }
            },
            "type": "scatter3d"
           }
          ],
          "scattercarpet": [
           {
            "marker": {
             "colorbar": {
              "outlinewidth": 0,
              "ticks": ""
             }
            },
            "type": "scattercarpet"
           }
          ],
          "scattergeo": [
           {
            "marker": {
             "colorbar": {
              "outlinewidth": 0,
              "ticks": ""
             }
            },
            "type": "scattergeo"
           }
          ],
          "scattergl": [
           {
            "marker": {
             "colorbar": {
              "outlinewidth": 0,
              "ticks": ""
             }
            },
            "type": "scattergl"
           }
          ],
          "scattermapbox": [
           {
            "marker": {
             "colorbar": {
              "outlinewidth": 0,
              "ticks": ""
             }
            },
            "type": "scattermapbox"
           }
          ],
          "scatterpolar": [
           {
            "marker": {
             "colorbar": {
              "outlinewidth": 0,
              "ticks": ""
             }
            },
            "type": "scatterpolar"
           }
          ],
          "scatterpolargl": [
           {
            "marker": {
             "colorbar": {
              "outlinewidth": 0,
              "ticks": ""
             }
            },
            "type": "scatterpolargl"
           }
          ],
          "scatterternary": [
           {
            "marker": {
             "colorbar": {
              "outlinewidth": 0,
              "ticks": ""
             }
            },
            "type": "scatterternary"
           }
          ],
          "surface": [
           {
            "colorbar": {
             "outlinewidth": 0,
             "ticks": ""
            },
            "colorscale": [
             [
              0,
              "#0d0887"
             ],
             [
              0.1111111111111111,
              "#46039f"
             ],
             [
              0.2222222222222222,
              "#7201a8"
             ],
             [
              0.3333333333333333,
              "#9c179e"
             ],
             [
              0.4444444444444444,
              "#bd3786"
             ],
             [
              0.5555555555555556,
              "#d8576b"
             ],
             [
              0.6666666666666666,
              "#ed7953"
             ],
             [
              0.7777777777777778,
              "#fb9f3a"
             ],
             [
              0.8888888888888888,
              "#fdca26"
             ],
             [
              1,
              "#f0f921"
             ]
            ],
            "type": "surface"
           }
          ],
          "table": [
           {
            "cells": {
             "fill": {
              "color": "#EBF0F8"
             },
             "line": {
              "color": "white"
             }
            },
            "header": {
             "fill": {
              "color": "#C8D4E3"
             },
             "line": {
              "color": "white"
             }
            },
            "type": "table"
           }
          ]
         },
         "layout": {
          "annotationdefaults": {
           "arrowcolor": "#2a3f5f",
           "arrowhead": 0,
           "arrowwidth": 1
          },
          "coloraxis": {
           "colorbar": {
            "outlinewidth": 0,
            "ticks": ""
           }
          },
          "colorscale": {
           "diverging": [
            [
             0,
             "#8e0152"
            ],
            [
             0.1,
             "#c51b7d"
            ],
            [
             0.2,
             "#de77ae"
            ],
            [
             0.3,
             "#f1b6da"
            ],
            [
             0.4,
             "#fde0ef"
            ],
            [
             0.5,
             "#f7f7f7"
            ],
            [
             0.6,
             "#e6f5d0"
            ],
            [
             0.7,
             "#b8e186"
            ],
            [
             0.8,
             "#7fbc41"
            ],
            [
             0.9,
             "#4d9221"
            ],
            [
             1,
             "#276419"
            ]
           ],
           "sequential": [
            [
             0,
             "#0d0887"
            ],
            [
             0.1111111111111111,
             "#46039f"
            ],
            [
             0.2222222222222222,
             "#7201a8"
            ],
            [
             0.3333333333333333,
             "#9c179e"
            ],
            [
             0.4444444444444444,
             "#bd3786"
            ],
            [
             0.5555555555555556,
             "#d8576b"
            ],
            [
             0.6666666666666666,
             "#ed7953"
            ],
            [
             0.7777777777777778,
             "#fb9f3a"
            ],
            [
             0.8888888888888888,
             "#fdca26"
            ],
            [
             1,
             "#f0f921"
            ]
           ],
           "sequentialminus": [
            [
             0,
             "#0d0887"
            ],
            [
             0.1111111111111111,
             "#46039f"
            ],
            [
             0.2222222222222222,
             "#7201a8"
            ],
            [
             0.3333333333333333,
             "#9c179e"
            ],
            [
             0.4444444444444444,
             "#bd3786"
            ],
            [
             0.5555555555555556,
             "#d8576b"
            ],
            [
             0.6666666666666666,
             "#ed7953"
            ],
            [
             0.7777777777777778,
             "#fb9f3a"
            ],
            [
             0.8888888888888888,
             "#fdca26"
            ],
            [
             1,
             "#f0f921"
            ]
           ]
          },
          "colorway": [
           "#636efa",
           "#EF553B",
           "#00cc96",
           "#ab63fa",
           "#FFA15A",
           "#19d3f3",
           "#FF6692",
           "#B6E880",
           "#FF97FF",
           "#FECB52"
          ],
          "font": {
           "color": "#2a3f5f"
          },
          "geo": {
           "bgcolor": "white",
           "lakecolor": "white",
           "landcolor": "#E5ECF6",
           "showlakes": true,
           "showland": true,
           "subunitcolor": "white"
          },
          "hoverlabel": {
           "align": "left"
          },
          "hovermode": "closest",
          "mapbox": {
           "style": "light"
          },
          "paper_bgcolor": "white",
          "plot_bgcolor": "#E5ECF6",
          "polar": {
           "angularaxis": {
            "gridcolor": "white",
            "linecolor": "white",
            "ticks": ""
           },
           "bgcolor": "#E5ECF6",
           "radialaxis": {
            "gridcolor": "white",
            "linecolor": "white",
            "ticks": ""
           }
          },
          "scene": {
           "xaxis": {
            "backgroundcolor": "#E5ECF6",
            "gridcolor": "white",
            "gridwidth": 2,
            "linecolor": "white",
            "showbackground": true,
            "ticks": "",
            "zerolinecolor": "white"
           },
           "yaxis": {
            "backgroundcolor": "#E5ECF6",
            "gridcolor": "white",
            "gridwidth": 2,
            "linecolor": "white",
            "showbackground": true,
            "ticks": "",
            "zerolinecolor": "white"
           },
           "zaxis": {
            "backgroundcolor": "#E5ECF6",
            "gridcolor": "white",
            "gridwidth": 2,
            "linecolor": "white",
            "showbackground": true,
            "ticks": "",
            "zerolinecolor": "white"
           }
          },
          "shapedefaults": {
           "line": {
            "color": "#2a3f5f"
           }
          },
          "ternary": {
           "aaxis": {
            "gridcolor": "white",
            "linecolor": "white",
            "ticks": ""
           },
           "baxis": {
            "gridcolor": "white",
            "linecolor": "white",
            "ticks": ""
           },
           "bgcolor": "#E5ECF6",
           "caxis": {
            "gridcolor": "white",
            "linecolor": "white",
            "ticks": ""
           }
          },
          "title": {
           "x": 0.05
          },
          "xaxis": {
           "automargin": true,
           "gridcolor": "white",
           "linecolor": "white",
           "ticks": "",
           "title": {
            "standoff": 15
           },
           "zerolinecolor": "white",
           "zerolinewidth": 2
          },
          "yaxis": {
           "automargin": true,
           "gridcolor": "white",
           "linecolor": "white",
           "ticks": "",
           "title": {
            "standoff": 15
           },
           "zerolinecolor": "white",
           "zerolinewidth": 2
          }
         }
        },
        "xaxis": {
         "range": [
          -5,
          5
         ]
        },
        "yaxis": {
         "range": [
          -5,
          5
         ]
        }
       }
      },
      "text/html": [
       "<div>                            <div id=\"e38fb499-3a04-45da-a7b5-35831da2a4f3\" class=\"plotly-graph-div\" style=\"height:525px; width:100%;\"></div>            <script type=\"text/javascript\">                require([\"plotly\"], function(Plotly) {                    window.PLOTLYENV=window.PLOTLYENV || {};                                    if (document.getElementById(\"e38fb499-3a04-45da-a7b5-35831da2a4f3\")) {                    Plotly.newPlot(                        \"e38fb499-3a04-45da-a7b5-35831da2a4f3\",                        [{\"mode\": \"text\", \"text\": [\"\\u043d\\u0438\\u0441\\u043a\\u043e <- \\u0427\\u043e\\u0432\\u0435\\u043a\\u043e\\u043b\\u0438\\u043a\\u043e\\u0441\\u0442 -> \\u0432\\u0438\\u0441\\u043e\\u043a\\u043e\"], \"type\": \"scatter\", \"x\": [2, -2], \"y\": [-1, -1]}, {\"mode\": \"text\", \"text\": [\"\\u0432\\u0438\\u0441\\u043e\\u043a\\u043e\"], \"type\": \"scatter\", \"x\": [0, 0], \"y\": [4, 4]}, {\"mode\": \"text\", \"text\": [\"\\u0442\\u043e\\u043f\\u043b\\u0438\\u043d\\u0430\"], \"type\": \"scatter\", \"x\": [0, 0], \"y\": [2, 4]}, {\"mode\": \"text\", \"text\": [\"\\u043d\\u0438\\u0441\\u043a\\u043e\"], \"type\": \"scatter\", \"x\": [0, 0], \"y\": [-4, -4]}, {\"mode\": \"text\", \"text\": [\"A\"], \"type\": \"scatter\", \"x\": [3.5, 3.5], \"y\": [4.5, 4.5]}, {\"mode\": \"text\", \"text\": [\"B\"], \"type\": \"scatter\", \"x\": [-3.5, -3.5], \"y\": [-4.5, -4.5]}],                        {\"shapes\": [{\"line\": {\"color\": \"Black\", \"width\": 3}, \"type\": \"line\", \"x0\": 0, \"x1\": 0, \"xref\": \"x\", \"y0\": -5, \"y1\": 5, \"yref\": \"y\"}, {\"line\": {\"color\": \"Black\", \"width\": 3}, \"type\": \"line\", \"x0\": -5, \"x1\": 5, \"xref\": \"x\", \"y0\": 0, \"y1\": 0, \"yref\": \"y\"}, {\"line\": {\"color\": \"RoyalBlue\", \"width\": 2}, \"type\": \"line\", \"x0\": -5, \"x1\": 5, \"xref\": \"x\", \"y0\": -5, \"y1\": 5, \"yref\": \"y\"}, {\"fillcolor\": \"White\", \"line\": {\"color\": \"Black\"}, \"type\": \"circle\", \"x0\": 5, \"x1\": 4.0, \"xref\": \"x\", \"y0\": 4.0, \"y1\": 5, \"yref\": \"y\"}, {\"fillcolor\": \"White\", \"line\": {\"color\": \"Black\"}, \"type\": \"circle\", \"x0\": -5, \"x1\": -4.0, \"xref\": \"x\", \"y0\": -4.0, \"y1\": -5, \"yref\": \"y\"}], \"template\": {\"data\": {\"bar\": [{\"error_x\": {\"color\": \"#2a3f5f\"}, \"error_y\": {\"color\": \"#2a3f5f\"}, \"marker\": {\"line\": {\"color\": \"#E5ECF6\", \"width\": 0.5}}, \"type\": \"bar\"}], \"barpolar\": [{\"marker\": {\"line\": {\"color\": \"#E5ECF6\", \"width\": 0.5}}, \"type\": \"barpolar\"}], \"carpet\": [{\"aaxis\": {\"endlinecolor\": \"#2a3f5f\", \"gridcolor\": \"white\", \"linecolor\": \"white\", \"minorgridcolor\": \"white\", \"startlinecolor\": \"#2a3f5f\"}, \"baxis\": {\"endlinecolor\": \"#2a3f5f\", \"gridcolor\": \"white\", \"linecolor\": \"white\", \"minorgridcolor\": \"white\", \"startlinecolor\": \"#2a3f5f\"}, \"type\": \"carpet\"}], \"choropleth\": [{\"colorbar\": {\"outlinewidth\": 0, \"ticks\": \"\"}, \"type\": \"choropleth\"}], \"contour\": [{\"colorbar\": {\"outlinewidth\": 0, \"ticks\": \"\"}, \"colorscale\": [[0.0, \"#0d0887\"], [0.1111111111111111, \"#46039f\"], [0.2222222222222222, \"#7201a8\"], [0.3333333333333333, \"#9c179e\"], [0.4444444444444444, \"#bd3786\"], [0.5555555555555556, \"#d8576b\"], [0.6666666666666666, \"#ed7953\"], [0.7777777777777778, \"#fb9f3a\"], [0.8888888888888888, \"#fdca26\"], [1.0, \"#f0f921\"]], \"type\": \"contour\"}], \"contourcarpet\": [{\"colorbar\": {\"outlinewidth\": 0, \"ticks\": \"\"}, \"type\": \"contourcarpet\"}], \"heatmap\": [{\"colorbar\": {\"outlinewidth\": 0, \"ticks\": \"\"}, \"colorscale\": [[0.0, \"#0d0887\"], [0.1111111111111111, \"#46039f\"], [0.2222222222222222, \"#7201a8\"], [0.3333333333333333, \"#9c179e\"], [0.4444444444444444, \"#bd3786\"], [0.5555555555555556, \"#d8576b\"], [0.6666666666666666, \"#ed7953\"], [0.7777777777777778, \"#fb9f3a\"], [0.8888888888888888, \"#fdca26\"], [1.0, \"#f0f921\"]], \"type\": \"heatmap\"}], \"heatmapgl\": [{\"colorbar\": {\"outlinewidth\": 0, \"ticks\": \"\"}, \"colorscale\": [[0.0, \"#0d0887\"], [0.1111111111111111, \"#46039f\"], [0.2222222222222222, \"#7201a8\"], [0.3333333333333333, \"#9c179e\"], [0.4444444444444444, \"#bd3786\"], [0.5555555555555556, \"#d8576b\"], [0.6666666666666666, \"#ed7953\"], [0.7777777777777778, \"#fb9f3a\"], [0.8888888888888888, \"#fdca26\"], [1.0, \"#f0f921\"]], \"type\": \"heatmapgl\"}], \"histogram\": [{\"marker\": {\"colorbar\": {\"outlinewidth\": 0, \"ticks\": \"\"}}, \"type\": \"histogram\"}], \"histogram2d\": [{\"colorbar\": {\"outlinewidth\": 0, \"ticks\": \"\"}, \"colorscale\": [[0.0, \"#0d0887\"], [0.1111111111111111, \"#46039f\"], [0.2222222222222222, \"#7201a8\"], [0.3333333333333333, \"#9c179e\"], [0.4444444444444444, \"#bd3786\"], [0.5555555555555556, \"#d8576b\"], [0.6666666666666666, \"#ed7953\"], [0.7777777777777778, \"#fb9f3a\"], [0.8888888888888888, \"#fdca26\"], [1.0, \"#f0f921\"]], \"type\": \"histogram2d\"}], \"histogram2dcontour\": [{\"colorbar\": {\"outlinewidth\": 0, \"ticks\": \"\"}, \"colorscale\": [[0.0, \"#0d0887\"], [0.1111111111111111, \"#46039f\"], [0.2222222222222222, \"#7201a8\"], [0.3333333333333333, \"#9c179e\"], [0.4444444444444444, \"#bd3786\"], [0.5555555555555556, \"#d8576b\"], [0.6666666666666666, \"#ed7953\"], [0.7777777777777778, \"#fb9f3a\"], [0.8888888888888888, \"#fdca26\"], [1.0, \"#f0f921\"]], \"type\": \"histogram2dcontour\"}], \"mesh3d\": [{\"colorbar\": {\"outlinewidth\": 0, \"ticks\": \"\"}, \"type\": \"mesh3d\"}], \"parcoords\": [{\"line\": {\"colorbar\": {\"outlinewidth\": 0, \"ticks\": \"\"}}, \"type\": \"parcoords\"}], \"pie\": [{\"automargin\": true, \"type\": \"pie\"}], \"scatter\": [{\"marker\": {\"colorbar\": {\"outlinewidth\": 0, \"ticks\": \"\"}}, \"type\": \"scatter\"}], \"scatter3d\": [{\"line\": {\"colorbar\": {\"outlinewidth\": 0, \"ticks\": \"\"}}, \"marker\": {\"colorbar\": {\"outlinewidth\": 0, \"ticks\": \"\"}}, \"type\": \"scatter3d\"}], \"scattercarpet\": [{\"marker\": {\"colorbar\": {\"outlinewidth\": 0, \"ticks\": \"\"}}, \"type\": \"scattercarpet\"}], \"scattergeo\": [{\"marker\": {\"colorbar\": {\"outlinewidth\": 0, \"ticks\": \"\"}}, \"type\": \"scattergeo\"}], \"scattergl\": [{\"marker\": {\"colorbar\": {\"outlinewidth\": 0, \"ticks\": \"\"}}, \"type\": \"scattergl\"}], \"scattermapbox\": [{\"marker\": {\"colorbar\": {\"outlinewidth\": 0, \"ticks\": \"\"}}, \"type\": \"scattermapbox\"}], \"scatterpolar\": [{\"marker\": {\"colorbar\": {\"outlinewidth\": 0, \"ticks\": \"\"}}, \"type\": \"scatterpolar\"}], \"scatterpolargl\": [{\"marker\": {\"colorbar\": {\"outlinewidth\": 0, \"ticks\": \"\"}}, \"type\": \"scatterpolargl\"}], \"scatterternary\": [{\"marker\": {\"colorbar\": {\"outlinewidth\": 0, \"ticks\": \"\"}}, \"type\": \"scatterternary\"}], \"surface\": [{\"colorbar\": {\"outlinewidth\": 0, \"ticks\": \"\"}, \"colorscale\": [[0.0, \"#0d0887\"], [0.1111111111111111, \"#46039f\"], [0.2222222222222222, \"#7201a8\"], [0.3333333333333333, \"#9c179e\"], [0.4444444444444444, \"#bd3786\"], [0.5555555555555556, \"#d8576b\"], [0.6666666666666666, \"#ed7953\"], [0.7777777777777778, \"#fb9f3a\"], [0.8888888888888888, \"#fdca26\"], [1.0, \"#f0f921\"]], \"type\": \"surface\"}], \"table\": [{\"cells\": {\"fill\": {\"color\": \"#EBF0F8\"}, \"line\": {\"color\": \"white\"}}, \"header\": {\"fill\": {\"color\": \"#C8D4E3\"}, \"line\": {\"color\": \"white\"}}, \"type\": \"table\"}]}, \"layout\": {\"annotationdefaults\": {\"arrowcolor\": \"#2a3f5f\", \"arrowhead\": 0, \"arrowwidth\": 1}, \"coloraxis\": {\"colorbar\": {\"outlinewidth\": 0, \"ticks\": \"\"}}, \"colorscale\": {\"diverging\": [[0, \"#8e0152\"], [0.1, \"#c51b7d\"], [0.2, \"#de77ae\"], [0.3, \"#f1b6da\"], [0.4, \"#fde0ef\"], [0.5, \"#f7f7f7\"], [0.6, \"#e6f5d0\"], [0.7, \"#b8e186\"], [0.8, \"#7fbc41\"], [0.9, \"#4d9221\"], [1, \"#276419\"]], \"sequential\": [[0.0, \"#0d0887\"], [0.1111111111111111, \"#46039f\"], [0.2222222222222222, \"#7201a8\"], [0.3333333333333333, \"#9c179e\"], [0.4444444444444444, \"#bd3786\"], [0.5555555555555556, \"#d8576b\"], [0.6666666666666666, \"#ed7953\"], [0.7777777777777778, \"#fb9f3a\"], [0.8888888888888888, \"#fdca26\"], [1.0, \"#f0f921\"]], \"sequentialminus\": [[0.0, \"#0d0887\"], [0.1111111111111111, \"#46039f\"], [0.2222222222222222, \"#7201a8\"], [0.3333333333333333, \"#9c179e\"], [0.4444444444444444, \"#bd3786\"], [0.5555555555555556, \"#d8576b\"], [0.6666666666666666, \"#ed7953\"], [0.7777777777777778, \"#fb9f3a\"], [0.8888888888888888, \"#fdca26\"], [1.0, \"#f0f921\"]]}, \"colorway\": [\"#636efa\", \"#EF553B\", \"#00cc96\", \"#ab63fa\", \"#FFA15A\", \"#19d3f3\", \"#FF6692\", \"#B6E880\", \"#FF97FF\", \"#FECB52\"], \"font\": {\"color\": \"#2a3f5f\"}, \"geo\": {\"bgcolor\": \"white\", \"lakecolor\": \"white\", \"landcolor\": \"#E5ECF6\", \"showlakes\": true, \"showland\": true, \"subunitcolor\": \"white\"}, \"hoverlabel\": {\"align\": \"left\"}, \"hovermode\": \"closest\", \"mapbox\": {\"style\": \"light\"}, \"paper_bgcolor\": \"white\", \"plot_bgcolor\": \"#E5ECF6\", \"polar\": {\"angularaxis\": {\"gridcolor\": \"white\", \"linecolor\": \"white\", \"ticks\": \"\"}, \"bgcolor\": \"#E5ECF6\", \"radialaxis\": {\"gridcolor\": \"white\", \"linecolor\": \"white\", \"ticks\": \"\"}}, \"scene\": {\"xaxis\": {\"backgroundcolor\": \"#E5ECF6\", \"gridcolor\": \"white\", \"gridwidth\": 2, \"linecolor\": \"white\", \"showbackground\": true, \"ticks\": \"\", \"zerolinecolor\": \"white\"}, \"yaxis\": {\"backgroundcolor\": \"#E5ECF6\", \"gridcolor\": \"white\", \"gridwidth\": 2, \"linecolor\": \"white\", \"showbackground\": true, \"ticks\": \"\", \"zerolinecolor\": \"white\"}, \"zaxis\": {\"backgroundcolor\": \"#E5ECF6\", \"gridcolor\": \"white\", \"gridwidth\": 2, \"linecolor\": \"white\", \"showbackground\": true, \"ticks\": \"\", \"zerolinecolor\": \"white\"}}, \"shapedefaults\": {\"line\": {\"color\": \"#2a3f5f\"}}, \"ternary\": {\"aaxis\": {\"gridcolor\": \"white\", \"linecolor\": \"white\", \"ticks\": \"\"}, \"baxis\": {\"gridcolor\": \"white\", \"linecolor\": \"white\", \"ticks\": \"\"}, \"bgcolor\": \"#E5ECF6\", \"caxis\": {\"gridcolor\": \"white\", \"linecolor\": \"white\", \"ticks\": \"\"}}, \"title\": {\"x\": 0.05}, \"xaxis\": {\"automargin\": true, \"gridcolor\": \"white\", \"linecolor\": \"white\", \"ticks\": \"\", \"title\": {\"standoff\": 15}, \"zerolinecolor\": \"white\", \"zerolinewidth\": 2}, \"yaxis\": {\"automargin\": true, \"gridcolor\": \"white\", \"linecolor\": \"white\", \"ticks\": \"\", \"title\": {\"standoff\": 15}, \"zerolinecolor\": \"white\", \"zerolinewidth\": 2}}}, \"xaxis\": {\"range\": [-5, 5]}, \"yaxis\": {\"range\": [-5, 5]}},                        {\"responsive\": true}                    ).then(function(){\n",
       "                            \n",
       "var gd = document.getElementById('e38fb499-3a04-45da-a7b5-35831da2a4f3');\n",
       "var x = new MutationObserver(function (mutations, observer) {{\n",
       "        var display = window.getComputedStyle(gd).display;\n",
       "        if (!display || display === 'none') {{\n",
       "            console.log([gd, 'removed!']);\n",
       "            Plotly.purge(gd);\n",
       "            observer.disconnect();\n",
       "        }}\n",
       "}});\n",
       "\n",
       "// Listen for the removal of the full notebook cells\n",
       "var notebookContainer = gd.closest('#notebook-container');\n",
       "if (notebookContainer) {{\n",
       "    x.observe(notebookContainer, {childList: true});\n",
       "}}\n",
       "\n",
       "// Listen for the clearing of the current output cell\n",
       "var outputEl = gd.closest('.output');\n",
       "if (outputEl) {{\n",
       "    x.observe(outputEl, {childList: true});\n",
       "}}\n",
       "\n",
       "                        })                };                });            </script>        </div>"
      ]
     },
     "metadata": {},
     "output_type": "display_data"
    }
   ],
   "source": [
    "fig = go.Figure()\n",
    "fig.update_xaxes(range=[-5, 5])\n",
    "fig.update_yaxes(range=[-5, 5])\n",
    "\n",
    "fig.add_trace(go.Scatter(\n",
    "    x=[2, -2], y=[-1,-1],\n",
    "    text=[\"ниско <- Човеколикост -> високо\"\n",
    "         ],\n",
    "    mode=\"text\",\n",
    "))\n",
    "fig.add_trace(go.Scatter(\n",
    "    x=[0,0], y=[4,4],\n",
    "    text=[\"високо\"\n",
    "         ],\n",
    "    mode=\"text\",\n",
    "))\n",
    "fig.add_trace(go.Scatter(\n",
    "    x=[0,0], y=[2,4],\n",
    "    text=[\"топлина\"\n",
    "         ],\n",
    "    mode=\"text\",\n",
    "))\n",
    "fig.add_trace(go.Scatter(\n",
    "    x=[0,0], y=[-4,-4],\n",
    "    text=[\"ниско\"\n",
    "         ],\n",
    "    mode=\"text\",\n",
    "))\n",
    "fig.add_trace(go.Scatter(\n",
    "    x=[3.5,3.5], y=[4.5,4.5],\n",
    "    text=[\"A\"\n",
    "         ],\n",
    "    mode=\"text\",\n",
    "))\n",
    "fig.add_trace(go.Scatter(\n",
    "    x=[-3.5,-3.5], y=[-4.5,-4.5],\n",
    "    text=[\"B\"\n",
    "         ],\n",
    "    mode=\"text\",\n",
    "))\n",
    "fig.add_shape(type=\"line\",\n",
    "    x0=0, y0=-5, x1=0, y1=5,\n",
    "    line=dict(color=\"Black\",width=3)\n",
    ")\n",
    "fig.add_shape(type=\"line\",\n",
    "    x0=-5, y0=0, x1=5, y1=0,\n",
    "    line=dict(color=\"Black\",width=3)\n",
    ")\n",
    "fig.add_shape(type=\"line\",\n",
    "    x0=-5, y0=-5, x1=5, y1=5,\n",
    "    line=dict(color=\"RoyalBlue\",width=2)\n",
    ")\n",
    "fig.add_shape(type=\"circle\",\n",
    "    xref=\"x\", yref=\"y\",\n",
    "    fillcolor=\"White\",\n",
    "    x0=5, y0=4.0, x1=4.0, y1=5,\n",
    "    line_color=\"Black\",\n",
    ")\n",
    "fig.add_shape(type=\"circle\",\n",
    "    xref=\"x\", yref=\"y\",\n",
    "    fillcolor=\"White\",\n",
    "    x0=-5, y0=-4.0, x1=-4.0, y1=-5,\n",
    "    line_color=\"Black\",\n",
    ")\n",
    "fig.update_shapes(dict(xref='x', yref='y'))\n",
    "fig.show()\n"
   ]
  },
  {
   "cell_type": "markdown",
   "metadata": {},
   "source": [
    "<center><h4> Видеата кои учесниците ги рангираа: </h4></center>"
   ]
  },
  {
   "cell_type": "code",
   "execution_count": 3,
   "metadata": {
    "scrolled": true
   },
   "outputs": [
    {
     "data": {
      "text/html": [
       "<style>\n",
       "li{\n",
       "float:left;\n",
       "padding: 2px 0px;\n",
       "}\n",
       "</style>\n",
       "<center>\n",
       "<h3>Од анимирани видеа.</h3>\n",
       "<ol style=\"list-style-type:upper-roman;display:inline-block;margin-left:auto;margin-right:auto;\">\n",
       "<li>\n",
       "<iframe width=\"400\" height=\"215\" src=\"https://www.youtube.com/embed/qUXVOfdGE4o\" frameborder=\"0\" allow=\"accelerometer; autoplay; clipboard-write; encrypted-media; gyroscope; picture-in-picture\" allowfullscreen></iframe>\n",
       "</li>\n",
       "<li>\n",
       "<iframe width=\"400\" height=\"215\" src=\"https://www.youtube.com/embed/-UaGUdNJdRQ\" frameborder=\"0\" allow=\"accelerometer; autoplay; clipboard-write; encrypted-media; gyroscope; picture-in-picture\" allowfullscreen></iframe>\n",
       "</li>\n",
       "<li>\n",
       "<iframe width=\"400\" height=\"215\" src=\"https://www.youtube.com/embed/TQhRqtt-Fpo\" frameborder=\"0\" allow=\"accelerometer; autoplay; clipboard-write; encrypted-media; gyroscope; picture-in-picture\" allowfullscreen></iframe>\n",
       "</li>\n",
       "<li>\n",
       "<iframe width=\"400\" height=\"215\" src=\"https://www.youtube.com/embed/Fcn4p213Zg8\" frameborder=\"0\" allow=\"accelerometer; autoplay; clipboard-write; encrypted-media; gyroscope; picture-in-picture\" allowfullscreen></iframe>\n",
       "</li>\n",
       "<li>\n",
       "<iframe width=\"400\" height=\"215\" src=\"https://www.youtube.com/embed/mrepeMdCwN4\" frameborder=\"0\" allow=\"accelerometer; autoplay; clipboard-write; encrypted-media; gyroscope; picture-in-picture\" allowfullscreen></iframe>\n",
       "</li>\n",
       "</ol>\n",
       "<h3>Од роботи.</h3>\n",
       "<ol style=\"list-style-type:upper-roman;display:inline-block;margin-left:auto;margin-right:auto;\">\n",
       "<li>\n",
       "<iframe width=\"400\" height=\"215\" src=\"https://www.youtube.com/embed/WaJci9bOmDk\" frameborder=\"0\" allow=\"accelerometer; autoplay; clipboard-write; encrypted-media; gyroscope; picture-in-picture\" allowfullscreen></iframe>\n",
       "</li>\n",
       "<li>\n",
       "<a target=\"_blank\" title=\"KOTARO\" href=\"http://www.jsk.t.u-tokyo.ac.jp/~ikuo/kotaro/index-e.html\"><img src=\"http://www.jsk.t.u-tokyo.ac.jp/~ikuo/kotaro/figs/Kotaro-standing-with-ball-20050627.jpg\" height=60% width=60%></a>\n",
       "</li>\n",
       "<li>\n",
       "<iframe width=\"400\" height=\"215\" src=\"https://www.youtube.com/embed/LV8Ws4JadTw\" frameborder=\"0\" allow=\"accelerometer; autoplay; clipboard-write; encrypted-media; gyroscope; picture-in-picture\" allowfullscreen></iframe>\n",
       "</li>\n",
       "<li>\n",
       "<img title=\"EVA\" src=\"https://cdn.discordapp.com/attachments/694279552607977483/784733902081359892/unknown.png\" height=\"215\"></img>\n",
       "</li>\n",
       "<li>\n",
       "<iframe width=\"400\" height=\"215\" src=\"https://www.youtube.com/embed/iCR2PFrLkwA\" frameborder=\"0\" allow=\"accelerometer; autoplay; clipboard-write; encrypted-media; gyroscope; picture-in-picture\" allowfullscreen></iframe>\n",
       "</li>\n",
       "</ol>\n"
      ],
      "text/plain": [
       "<IPython.core.display.HTML object>"
      ]
     },
     "execution_count": 3,
     "metadata": {},
     "output_type": "execute_result"
    }
   ],
   "source": [
    "HTML('''<style>\n",
    "li{\n",
    "float:left;\n",
    "padding: 2px 0px;\n",
    "}\n",
    "</style>\n",
    "<center>\n",
    "<h3>Од анимирани видеа.</h3>\n",
    "<ol style=\"list-style-type:upper-roman;display:inline-block;margin-left:auto;margin-right:auto;\">\n",
    "<li>\n",
    "<iframe width=\"400\" height=\"215\" src=\"https://www.youtube.com/embed/qUXVOfdGE4o\" frameborder=\"0\" allow=\"accelerometer; autoplay; clipboard-write; encrypted-media; gyroscope; picture-in-picture\" allowfullscreen></iframe>\n",
    "</li>\n",
    "<li>\n",
    "<iframe width=\"400\" height=\"215\" src=\"https://www.youtube.com/embed/-UaGUdNJdRQ\" frameborder=\"0\" allow=\"accelerometer; autoplay; clipboard-write; encrypted-media; gyroscope; picture-in-picture\" allowfullscreen></iframe>\n",
    "</li>\n",
    "<li>\n",
    "<iframe width=\"400\" height=\"215\" src=\"https://www.youtube.com/embed/TQhRqtt-Fpo\" frameborder=\"0\" allow=\"accelerometer; autoplay; clipboard-write; encrypted-media; gyroscope; picture-in-picture\" allowfullscreen></iframe>\n",
    "</li>\n",
    "<li>\n",
    "<iframe width=\"400\" height=\"215\" src=\"https://www.youtube.com/embed/Fcn4p213Zg8\" frameborder=\"0\" allow=\"accelerometer; autoplay; clipboard-write; encrypted-media; gyroscope; picture-in-picture\" allowfullscreen></iframe>\n",
    "</li>\n",
    "<li>\n",
    "<iframe width=\"400\" height=\"215\" src=\"https://www.youtube.com/embed/mrepeMdCwN4\" frameborder=\"0\" allow=\"accelerometer; autoplay; clipboard-write; encrypted-media; gyroscope; picture-in-picture\" allowfullscreen></iframe>\n",
    "</li>\n",
    "</ol>\n",
    "<h3>Од роботи.</h3>\n",
    "<ol style=\"list-style-type:upper-roman;display:inline-block;margin-left:auto;margin-right:auto;\">\n",
    "<li>\n",
    "<iframe width=\"400\" height=\"215\" src=\"https://www.youtube.com/embed/WaJci9bOmDk\" frameborder=\"0\" allow=\"accelerometer; autoplay; clipboard-write; encrypted-media; gyroscope; picture-in-picture\" allowfullscreen></iframe>\n",
    "</li>\n",
    "<li>\n",
    "<a target=\"_blank\" title=\"KOTARO\" href=\"http://www.jsk.t.u-tokyo.ac.jp/~ikuo/kotaro/index-e.html\"><img src=\"http://www.jsk.t.u-tokyo.ac.jp/~ikuo/kotaro/figs/Kotaro-standing-with-ball-20050627.jpg\" height=60% width=60%></a>\n",
    "</li>\n",
    "<li>\n",
    "<iframe width=\"400\" height=\"215\" src=\"https://www.youtube.com/embed/LV8Ws4JadTw\" frameborder=\"0\" allow=\"accelerometer; autoplay; clipboard-write; encrypted-media; gyroscope; picture-in-picture\" allowfullscreen></iframe>\n",
    "</li>\n",
    "<li>\n",
    "<img title=\"EVA\" src=\"https://cdn.discordapp.com/attachments/694279552607977483/784733902081359892/unknown.png\" height=\"215\"></img>\n",
    "</li>\n",
    "<li>\n",
    "<iframe width=\"400\" height=\"215\" src=\"https://www.youtube.com/embed/iCR2PFrLkwA\" frameborder=\"0\" allow=\"accelerometer; autoplay; clipboard-write; encrypted-media; gyroscope; picture-in-picture\" allowfullscreen></iframe>\n",
    "</li>\n",
    "</ol>\n",
    "''')\n"
   ]
  },
  {
   "cell_type": "markdown",
   "metadata": {},
   "source": [
    "<center><span style=\"font-size:15px; color:chocolate;\">Структурните коефициенти на индексите на Godspeed</span></center>\n",
    "<br>\n",
    "\n",
    "|Ставки                               |Антроморфизам|Анимираност|Допадливост|Видлива интелигенција|Видлива безбедност|\n",
    "|------                 |-------------|-----------|-----------|---------------------|------------------|\n",
    "|Машинолика - Човеколика              | .89         |    -      |    -      |    -                |    _                     |\n",
    "|Вештачка - Животна                   | .87         |    -      |    -      |    -                |    -                     |\n",
    "|Лажна - Природна                     | .85         |    -      |    -      |    -                |    -                     |\n",
    "|Несвесно - Свесно                    | .76         |    -      |    -      |    -                |    -                     |\n",
    "|Нагло Движење-Елегантно Движење      | .76         |    -      |    -      |    -                |    -                     |\n",
    "|Механичко - Органско                 |   -         | .88       |    -      |    -                |    -                     |\n",
    "|Вештачка - Животна                   |   -         | .87       |    -      |    -                |    -                     |\n",
    "|Мртво - Живо                         |   -         | .79       |    -      |    -                |    -                     |\n",
    "|Недвижечко - Енергетско              |   -         | .64       |    -      |    -                |    -                     |\n",
    "|Апатетично - Реактивно               |   -         | .59       |    -      |    -                |    -                     |\n",
    "|Инертно - Интерактивно               |   -         | .57       |    -      |    -                |    -                     |\n",
    "|Лошо - Фино                          |   -         | -         | .86       |    -                |    -                     |\n",
    "|Непријатно - Пријатно                |   -         | -         | .85       |    -                |    -                     |\n",
    "|Не се допаѓа - Се допаѓа             |   -         | -         | .83       |    -                |    -                     |\n",
    "|Непријателско - Пријателско          |   -         | -         | .81       |    -                |    -                     |\n",
    "|Нељубезно - Љубезно                  |   -         | -         | .81       |    -                |    -                     |\n",
    "|Неуко - Паметно                      |   -         | -         |   -       | .81                 |    -                     |\n",
    "|Неинтелигентно - Интелигентно        |   -         | -         |   -       | .79                 |    -                     |\n",
    "|Инкомпетентно - Компетентно          |   -         | -         |   -       | .78                 |    -                     |\n",
    "|Глупаво - Разумно                    |   -         | -         |   -       | .74                 |    -                     |\n",
    "|Неодговорно - Одговорно              |   -         | -         |   -       | .70                 |    -                     |\n",
    "|Вознемирено - Мирно                  |   -         | -         |   -       |    -                | .84                      |\n",
    "|Анкциозно - Релаксирано              |   -         | -         |   -       |    -                | .70                      |\n",
    "|Изненадено - Кротко                  |   -         | -         |   -       |    -                | .19                      |\n",
    "|Кронбахова ${\\chi}$                  | .91         | .88       | .92       | .87                 | .60                      |\n",
    "|Модел                                | ${\\chi^2}$  |**df**     |**GFI**    |**AGFI**             |                          |\n",
    "|                                     | 3972.25     | 242       | .86       | .82                 |                          |\n",
    "|                                     |**NFI**      |**CFI**    |**RMR**    |**RMSEA**            |                          |\n",
    "|                                     | .98         | .98       | .086      | .88                 |                          |\n",
    "\n"
   ]
  },
  {
   "cell_type": "markdown",
   "metadata": {},
   "source": [
    "<center><span style=\"font-size:12px;\">\n",
    "Кронбаховата $\\alpha$ формула со кои се пресметани коефициентите во табелата: <span style=\"font-size:15px;\">\n",
    "    $\\alpha = \\frac{N *\\overline{c}}{\\overline{v} + (N - 1)*\\overline{c}}$ </span> <br>\n",
    "N - број на ставки <br>\n",
    "$\\overline{c}$ - средна вредност на коваријанса помеѓу парови на ставки <br>\n",
    "$\\overline{v}$ - средна варијанса <br>\n",
    "Според оваа табела се донесува побивањето на првата хипотеза од првата фаза, каде резултатите покажаа дека индексите на допадноста и антропоморфизмоста имаа најголема доверливост со Кронбахова $\\alpha$ од .92 и .91. Анимираноста и видливата интелигенција имаа Кронбахова $\\alpha$ од .88 и .87, но видливата безбедност имаше Кронбахова $\\alpha$ од .60 која што беше значително под стандардот за доверливост од .70. \n",
    "Во моделот двата параметри за мерење на goodness-of-fit(RMR = .086; RMSEA = .88) драстично го надминаа стандардот за отсек од .05, што покажува дека овие 24 семантички диференцијални ставки не соодвестуваат добро во структурата на петте индекси($\\chi^2$ = 3972.25; df = 242; GFI = .86; AGFI = .82). \n",
    " Со повеќедимензионално скалирање на 24те семантички ставки се покажува дека сите податочки точки се распрскани по дијагонала, каде роботите се ниската лева страна, а аниминираните карактери се на горната десна страна.\n",
    "    </span>\n",
    "    <br>\n",
    "   <img src=\"https://cdn.discordapp.com/attachments/694279552607977483/784762464537018378/unknown.png\"> </img>"
   ]
  },
  {
   "cell_type": "markdown",
   "metadata": {},
   "source": [
    "<center><span style=\"font-size:15px; color:chocolate;\">Алтернативни индекси</span></center>\n",
    "<br>\n",
    "<center><span style=\"font-size:12px;\">\n",
    "    Новите ставки кои се предложени во трудот се <i>видлива човечност</i>, <i>топлина</i> и <i>језивост</i>, кои се придржуваат до оригиналните Mori индекси, а дополнително е додадена и <i>привлечност</i> како нов индекс. Сега во втората фаза, повторно се извршува истиот експеримент со нови партиципанти, но сега видеата ги оценуваат по новите индекси. Сега новите добиени оценки изгледаат:\n",
    " </span>\n",
    "    \n",
    "|Ставки                                      |Прва рунда |Втора рунда |Финално|\n",
    "|--------------------------------------------|-----------|------------|-------|\n",
    "|Вештачко - Природно                         | .83       | .87        | .90   |\n",
    "|Создадено од човек - Човеколико             | .82       | .85        | .88   |\n",
    "|Невино за морали - Свесно за право и грешно | .82       | .77        | -     |\n",
    "|Бесмртно - Смртно                           | .81       | .84        | .85   |\n",
    "|Без пол - Машко/Женско                      | .71       | .63        | -     |\n",
    "|Некомуникативно - Зборливо                  | .66       | .62        | -     |\n",
    "|Автоматско - Намерно                        | .62       | .52        | -     |\n",
    "|Неживо - Живо                               | -         | .86        | .88   |\n",
    "|Со механички движења - Биолошки движења     | -         | .86        | .86   |\n",
    "|Синтетичко - Вистинско                      | -         | .86        | .90   |\n",
    "|Тотална варијанса                           | 57.33%    | 60.79%     | 68.96%|\n",
    "|Кронбахова $\\alpha$                         | .85       | .85        | .92   |"
   ]
  },
  {
   "cell_type": "markdown",
   "metadata": {},
   "source": [
    "<center><h3> Финалниот рефиниран индекс на ставки</h3></center>\n",
    "<br>\n",
    "<div>\n",
    "<img src=\"https://media.discordapp.net/attachments/694279552607977483/784776167235256390/unknown.png?width=286&height=577\" style=\"float:left; margin-right:15px;height:555px;\"> </img>\n",
    "<div style=\"display:block; margin-left:15px;\"><p>Од добиените графови се докажува дека не постои голема корелација помеѓу новите индекси, па со фаза 2 се покажа како новите индекси <i>атрактивност</i>, <i>језивост</i> и <i>човечност</i> имаат поголема доверливост.\n",
    " Новите индекси кои беа развиени во овој труд сега служат како нови мерки за човековата перцепција кон антропоморфни карактери кои доверливо ги проценуваат четирите независки индивидуални ставови. Овие нови ставки значајно ќе влијаат на развивачите на роботи, при споредување на различни роботи и нивни поставки им помагаат на развивачите да донесуваат подобри одлуки за дизајнот. Овие индекси имаат четири предности, прво имаат одлични <a href=\"https://en.wikipedia.org/wiki/Psychometrics\" title=\"психолошки мерења\" style=\"color:chocolate;\">психометриски</a> својства, структурата на факторите останува константна и за машки и женски учесници низ две рунди од тестирања. Второ, внатрешната доверливост на сите четири индекси е висока. Трето, индексот за језивост може слободно да послужи како у-оска во оригиналниот граф на Масахиро.\n",
    "<img src=\"https://upload.wikimedia.org/wikipedia/commons/thumb/f/f0/Mori_Uncanny_Valley.svg/1200px-Mori_Uncanny_Valley.svg.png\" style=\"float:left; width:35%; height:35%\" title=\"Uncanny Valley by Masahiro Mori\"></img> Не само што добро го мери неговиот именуван концепт, туку е и декорелиран од индексите на човечност, топлина и привлечност. Очигледната независност на индексите на човечност и језивост им овозможува на антропоморфните карактери да бидат исцртувани по скоро ортогонални оски, како што е имплицирано во  оригиналниот график.\n",
    "</p></div>\n",
    "</div>\n",
    "<br>\n"
   ]
  },
  {
   "cell_type": "markdown",
   "metadata": {},
   "source": [
    "<center><h3> Референци</h3></center>\n",
    "<br>\n",
    "<a href=\"http://www.macdorman.com/kfm/writings/pubs/Ho2010UncannyValleyIndices.pdf\"> \n",
    "C.-C. Ho and K. F. Macdorman, “Revisiting the uncanny valley theory: Developing and validating an alternative to the Godspeed indices,” Computers in Human Behavior, vol. 26, no. 6, pp. 1508–1518, 2010.   </a>"
   ]
  }
 ],
 "metadata": {
  "kernelspec": {
   "display_name": "Python 3",
   "language": "python",
   "name": "python3"
  },
  "language_info": {
   "codemirror_mode": {
    "name": "ipython",
    "version": 3
   },
   "file_extension": ".py",
   "mimetype": "text/x-python",
   "name": "python",
   "nbconvert_exporter": "python",
   "pygments_lexer": "ipython3",
   "version": "3.7.9"
  }
 },
 "nbformat": 4,
 "nbformat_minor": 4
}
